{
 "cells": [
  {
   "cell_type": "markdown",
   "metadata": {},
   "source": [
    "# Data Analysis Assignment"
   ]
  },
  {
   "cell_type": "markdown",
   "metadata": {},
   "source": [
    "This assignment uses a dataset obtained from Statistic Netherlands: https://opendata.cbs.nl/statline/#/CBS/en/dataset/82059ENG/table?ts=1528328809759\n",
    "\n",
    "The dataset details guests in Netherlands' hotels in February 2018, by their nationality, hotel location, and accommodation type.\n",
    "\n",
    "Some of the pandas functionality you will need was not convered in class - pandas is a huge library with endless functionality! Part of the difficulty is finding the function you need.\n",
    "\n",
    "Use the [pandas documentation](https://pandas.pydata.org/pandas-docs/stable/), [StackExchange](https://stackoverflow.com/questions/tagged/pandas), Google, along with class notes to help find functions to complete the tasks."
   ]
  },
  {
   "cell_type": "code",
   "execution_count": 1,
   "metadata": {},
   "outputs": [],
   "source": [
    "import pandas as pd\n",
    "import numpy as np\n",
    "import matplotlib.pyplot as plt\n",
    "import seaborn as sns"
   ]
  },
  {
   "cell_type": "markdown",
   "metadata": {},
   "source": [
    "### Part 1: Reading in your data\n",
    "\n",
    "Begin by reading in the data into a DataFrame. The data is located in a csv file called `overnight_accom.csv`.\n",
    "\n",
    "You will need to change some of the options in `pd.read_csv`.\n",
    "\n",
    "Make sure you inspect the overall dataframe and check it has been read in properly.\n",
    "\n",
    "How many observations do we have in this data set?"
   ]
  },
  {
   "cell_type": "markdown",
   "metadata": {},
   "source": [
    "### Part 2: Cleaning up your dataframe\n",
    "\n",
    "Have a look at the dataframe info - some of the data has been incorrectly interpreted by pandas.\n",
    "\n",
    "Unfortunately this dataset contains a lot of values equal to a single dot ('.'), so the columns are read in as strings. Convert the relevant columns to a numerical data type.\n",
    "\n",
    "* Hint: Missing values in NumPy are represented as `np.nan`. Convert the dot values to `np.nan`.\n",
    "\n",
    "Delete any unncessary columns."
   ]
  },
  {
   "cell_type": "markdown",
   "metadata": {},
   "source": [
    "### Part 3: Summarizing your data\n",
    "\n",
    "From which country of residence were most hotel **guests** in the Netherlands (in total)? Create a bar plot showing the number of guests from each country.\n",
    "\n",
    "For what type of accommodation were guests from the Netherlands outweighed by guests from foreign countries? Create a figure containing barplots for each of the accommodation types (ie. use subplots)."
   ]
  },
  {
   "cell_type": "markdown",
   "metadata": {},
   "source": [
    "Are the number of guests in Noord-Holland and Zuid-Holland correlated? What about overnight stays? Create a faceted plot with seaborn's [lmplot](https://seaborn.pydata.org/examples/anscombes_quartet.html) and discuss."
   ]
  },
  {
   "cell_type": "markdown",
   "metadata": {},
   "source": [
    "### Part 4: Regression analysis - hard"
   ]
  },
  {
   "cell_type": "markdown",
   "metadata": {},
   "source": [
    "This last section will require some more cleaning of the dataframe.\n",
    "\n",
    "Plot the relationship between number of guests and overnight stays in the (entire) Netherlands.\n",
    "\n",
    "Hints:\n",
    "\n",
    "* First drop all the 'aggregated' accommodation and country variables, ie. 'Total overnight accommodation', 'Europe'\n",
    "\n",
    "* You will need to use `groupby`, and in particular group by multiple items\n",
    "\n",
    "* You will also need to rotate the 'Topic' column using `unstack`"
   ]
  },
  {
   "cell_type": "markdown",
   "metadata": {},
   "source": [
    "Estimate the line of best fit in your last plot using Ordinary Least Squares (OLS). Recall that $\\hat{\\beta}$ is estimated as\n",
    "\n",
    "$$\n",
    "\\hat{\\beta} = (X'X)^{-1}X'y\n",
    "$$\n",
    "\n",
    "* Let $X$ be 'Guests' and $y$ be 'Overnight stays'\n",
    "* Remember to add a constant!"
   ]
  },
  {
   "cell_type": "code",
   "execution_count": null,
   "metadata": {},
   "outputs": [],
   "source": []
  }
 ],
 "metadata": {
  "kernelspec": {
   "display_name": "Python 3",
   "language": "python",
   "name": "python3"
  },
  "language_info": {
   "codemirror_mode": {
    "name": "ipython",
    "version": 3
   },
   "file_extension": ".py",
   "mimetype": "text/x-python",
   "name": "python",
   "nbconvert_exporter": "python",
   "pygments_lexer": "ipython3",
   "version": "3.6.4"
  }
 },
 "nbformat": 4,
 "nbformat_minor": 2
}
