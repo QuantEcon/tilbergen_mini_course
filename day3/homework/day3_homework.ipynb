{
 "cells": [
  {
   "cell_type": "markdown",
   "metadata": {},
   "source": [
    "## Homework Day 3"
   ]
  },
  {
   "cell_type": "markdown",
   "metadata": {},
   "source": [
    "### Exercise 1"
   ]
  },
  {
   "cell_type": "markdown",
   "metadata": {},
   "source": [
    "Recall our inventory problem where inventory follows\n",
    "\n",
    "\n",
    "\\begin{equation*}\n",
    "  X_{t+1} = \n",
    "  \\begin{cases}\n",
    "      ( S - D_{t+1})^+ & \\quad \\text{if } X_t \\leq s \\\\\n",
    "      ( X_t - D_{t+1} )^+ &  \\quad \\text{if } X_t > s\n",
    "  \\end{cases}\n",
    "\\end{equation*}\n",
    "\n",
    "The demand sequence is IID and obeys\n",
    "\n",
    "$$ \\mathbb P \\{D_t = d\\} = (1 - p)^d p $$\n",
    "\n",
    "for $d = 0, 1, \\ldots$.  Here $p$ is a parameter in $(0, 1)$."
   ]
  },
  {
   "cell_type": "markdown",
   "metadata": {},
   "source": [
    "Let\n",
    "\n",
    "$$ \n",
    "    h_s(x) = x + (S - x) \\mathbb 1\\{x \\leq s \\}\n",
    "$$\n",
    "\n",
    "denote stock on hand after the restocking decision is made.  Profits are given by\n",
    "\n",
    "$$ \n",
    "    \\pi(X_t, D_{t+1}) \n",
    "    = \\min\\{h_s(X_t), D_{t+1}\\} - c \\mathbb 1\\{X_t \\leq s\\}\n",
    "$$\n",
    "\n",
    "Here $c$ is a fixed cost of restocking.  We are assuming that the marginal cost of stock is zero for simplicity, and that the unit price of output is 1."
   ]
  },
  {
   "cell_type": "markdown",
   "metadata": {},
   "source": [
    "Maximize long run average profits for the firm by choosing $s$ optimally.  You can do this visually, if you like, by plotting profits as a function of $s$.\n",
    "\n",
    "In doing so, assume that $S=20$ and $p=0.5$.\n",
    "\n",
    "Use simulation and the law of large numbers.  Try to optimize the execution speed of your implementation."
   ]
  },
  {
   "cell_type": "markdown",
   "metadata": {
    "collapsed": true
   },
   "source": [
    "### Exercise 2\n",
    "\n",
    "For the $AR(1)$ process\n",
    "\n",
    "$$ X_{t+1} = \\rho X_t + b + \\sigma \\xi_{t+1} $$\n",
    "\n",
    "with $\\{ \\xi_t \\}$ iid and standard normal, \n",
    "\n",
    "$$ \n",
    "    \\psi_t = N(\\mu, s^2) \\implies \\psi_{t+1} \n",
    "    = N(\\rho \\mu + b, \\rho^2 s^2 + \\sigma^2) \n",
    "$$\n",
    "\n",
    "Confirm this, at least approximately, by simulation.  Let\n",
    "\n",
    "* $\\rho = 0.9$\n",
    "* $b = 0.0$\n",
    "* $\\sigma = 0.1$\n",
    "* $\\mu = -3$\n",
    "* $s = 0.2$\n",
    "\n",
    "First, plot $\\psi_t$ and $\\psi_{t+1}$ using the true distributions described above.\n",
    "\n",
    "Second, plot $\\psi_{t+1}$ on the same figure (in a different color) as follows:\n",
    "\n",
    "1. Generate $n$ draws of $X_t$ from the $N(\\mu, s^2)$ distribution\n",
    "2. Update them all using the rule $X_{t+1} = \\rho X_t + b + \\sigma \\xi_{t+1}$\n",
    "3. Use the resulting sample of $X_{t+1}$ values to produce a density estimate via kernel density estimation.\n",
    "\n",
    "Try this for several different values of $n$ and confirm that the simulation based estimate of $\\psi_{t+1}$ does converge to the theoretical distribution.\n"
   ]
  },
  {
   "cell_type": "code",
   "execution_count": null,
   "metadata": {},
   "outputs": [],
   "source": []
  }
 ],
 "metadata": {
  "kernelspec": {
   "display_name": "Python 3",
   "language": "python",
   "name": "python3"
  },
  "language_info": {
   "codemirror_mode": {
    "name": "ipython",
    "version": 3
   },
   "file_extension": ".py",
   "mimetype": "text/x-python",
   "name": "python",
   "nbconvert_exporter": "python",
   "pygments_lexer": "ipython3",
   "version": "3.6.4"
  }
 },
 "nbformat": 4,
 "nbformat_minor": 2
}
