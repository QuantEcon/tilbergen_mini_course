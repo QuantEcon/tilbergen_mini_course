{
 "cells": [
  {
   "cell_type": "markdown",
   "metadata": {},
   "source": [
    "## Homework Day 3 Solutions"
   ]
  },
  {
   "cell_type": "code",
   "execution_count": 2,
   "metadata": {},
   "outputs": [],
   "source": [
    "import numpy as np\n",
    "import numba\n",
    "import matplotlib.pyplot as plt\n",
    "from scipy.stats import norm"
   ]
  },
  {
   "cell_type": "markdown",
   "metadata": {},
   "source": [
    "### Exercise 1"
   ]
  },
  {
   "cell_type": "code",
   "execution_count": 3,
   "metadata": {},
   "outputs": [],
   "source": [
    "S = 20\n",
    "p = 0.5\n",
    "c = 0.1"
   ]
  },
  {
   "cell_type": "code",
   "execution_count": 4,
   "metadata": {},
   "outputs": [],
   "source": [
    "@numba.jit\n",
    "def post_order_stock(s, x):\n",
    "    if x > s:\n",
    "        return x\n",
    "    else:\n",
    "        return S"
   ]
  },
  {
   "cell_type": "code",
   "execution_count": 5,
   "metadata": {},
   "outputs": [],
   "source": [
    "@numba.jit(nopython=True)\n",
    "def sim_profit_path(s, initial_x=50.0, sim_length=10_000_000):\n",
    "    \n",
    "    np.random.seed(1234)\n",
    "    dvals = np.random.geometric(p, size=sim_length-1) - 1\n",
    "    profits = np.empty(sim_length, dtype=np.float32)\n",
    "    x = initial_x\n",
    "\n",
    "    for t, d in enumerate(dvals):\n",
    "        stock = post_order_stock(s, x)\n",
    "        profits[t] = np.minimum(stock, d) - c * (x <= s)\n",
    "        \n",
    "        if x <= s:\n",
    "            x = max(S - d, 0)\n",
    "        else:\n",
    "            x = max(x - d, 0)\n",
    "            \n",
    "    return profits"
   ]
  },
  {
   "cell_type": "code",
   "execution_count": 6,
   "metadata": {},
   "outputs": [],
   "source": [
    "@numba.jit(nopython=True)\n",
    "def compute_profits():\n",
    "    profit_vals = np.empty(S, dtype=np.float64)\n",
    "    for s in range(S):\n",
    "        profit_path = sim_profit_path(s)\n",
    "        profit_vals[s] = profit_path.mean()\n",
    "        \n",
    "    return profit_vals"
   ]
  },
  {
   "cell_type": "code",
   "execution_count": 7,
   "metadata": {},
   "outputs": [],
   "source": [
    "@numba.jit(nopython=True, parallel=True)\n",
    "def compute_profits_parallel():\n",
    "    profit_vals = np.empty(S, dtype=np.float64)\n",
    "    for s in numba.prange(S):\n",
    "        profit_path = sim_profit_path(s)\n",
    "        profit_vals[s] = profit_path.mean()\n",
    "        \n",
    "    return profit_vals"
   ]
  },
  {
   "cell_type": "code",
   "execution_count": 8,
   "metadata": {},
   "outputs": [
    {
     "name": "stdout",
     "output_type": "stream",
     "text": [
      "CPU times: user 7.45 s, sys: 621 ms, total: 8.08 s\n",
      "Wall time: 8.13 s\n"
     ]
    }
   ],
   "source": [
    "%%time\n",
    "profit_vals = compute_profits()"
   ]
  },
  {
   "cell_type": "code",
   "execution_count": 9,
   "metadata": {},
   "outputs": [
    {
     "name": "stdout",
     "output_type": "stream",
     "text": [
      "CPU times: user 9.86 s, sys: 828 ms, total: 10.7 s\n",
      "Wall time: 3.3 s\n"
     ]
    }
   ],
   "source": [
    "%%time\n",
    "profit_vals = compute_profits_parallel()"
   ]
  },
  {
   "cell_type": "code",
   "execution_count": 10,
   "metadata": {},
   "outputs": [],
   "source": [
    "\n",
    "profit_vals = compute_profits_parallel()"
   ]
  },
  {
   "cell_type": "markdown",
   "metadata": {},
   "source": [
    "Here's long run average profits:"
   ]
  },
  {
   "cell_type": "code",
   "execution_count": 11,
   "metadata": {},
   "outputs": [
    {
     "data": {
      "image/png": "[encoded data removed]",
      "text/plain": [
       "<matplotlib.figure.Figure at 0x1a181ec278>"
      ]
     },
     "metadata": {},
     "output_type": "display_data"
    }
   ],
   "source": [
    "fig, ax = plt.subplots()\n",
    "ax.plot(range(S), profit_vals)\n",
    "plt.show()"
   ]
  },
  {
   "cell_type": "markdown",
   "metadata": {
    "collapsed": true
   },
   "source": [
    "### Exercise 2"
   ]
  },
  {
   "cell_type": "markdown",
   "metadata": {},
   "source": [
    "Here's the code we wrote for estimating KDEs:"
   ]
  },
  {
   "cell_type": "code",
   "execution_count": 13,
   "metadata": {},
   "outputs": [],
   "source": [
    "K = norm.pdf\n",
    "\n",
    "class KDE:\n",
    "    \n",
    "    def __init__(self, x_data, h=None):\n",
    "\n",
    "        if h is None:\n",
    "            σ = x_data.std()\n",
    "            n = len(x_data)\n",
    "            h = 1.06 * σ * n**(-1/5)\n",
    "        self.h = h\n",
    "        self.x_data = x_data\n",
    "\n",
    "    def f(self, x):\n",
    "        if np.isscalar(x):\n",
    "            return K((x - self.x_data) / self.h).mean() * (1/self.h)\n",
    "        else:\n",
    "            y = np.empty_like(x)\n",
    "            for i, x_val in enumerate(x):\n",
    "                y[i] = K((x_val - self.x_data) / self.h).mean() * (1/self.h)\n",
    "            return y\n",
    "\n",
    "\n",
    "def plot_kde(ϕ, x_min=-0.2, x_max=1.2):\n",
    "    x_data = ϕ.rvs(n)\n",
    "    kde = KDE(x_data)\n",
    "    \n",
    "    x_grid = np.linspace(-0.1, 1.1, 100)\n",
    "    fig, ax = plt.subplots()\n",
    "    ax.plot(x_grid, kde.f(x_grid))\n",
    "    ax.plot(x_grid, ϕ.pdf(x_grid))\n",
    "    plt.show()\n"
   ]
  },
  {
   "cell_type": "markdown",
   "metadata": {},
   "source": [
    "Here's a solution to the exercise:"
   ]
  },
  {
   "cell_type": "code",
   "execution_count": 14,
   "metadata": {},
   "outputs": [
    {
     "data": {
      "image/png": "[encoded data removed]",
      "text/plain": [
       "<matplotlib.figure.Figure at 0x7f8514072dd8>"
      ]
     },
     "metadata": {},
     "output_type": "display_data"
    }
   ],
   "source": [
    "ρ = 0.9\n",
    "b = 0.0\n",
    "σ = 0.1\n",
    "μ = -3\n",
    "s = 0.2\n",
    "\n",
    "μ_next = ρ * μ + b\n",
    "s_next = np.sqrt(ρ**2 * s**2 + σ**2)\n",
    "\n",
    "ψ = lambda x: K((x - μ) / s)\n",
    "ψ_next = lambda x: K((x - μ_next) / s_next)\n",
    "\n",
    "ψ = norm(μ, s)\n",
    "ψ_next = norm(μ_next, s_next)\n",
    "\n",
    "n = 100\n",
    "x_draws = ψ.rvs(n)\n",
    "x_draws_next = ρ * x_draws + b + σ * np.random.randn(n)\n",
    "kde = KDE(x_draws_next)\n",
    "\n",
    "x_grid = np.linspace(μ - 1, μ + 1, 100)\n",
    "fig, ax = plt.subplots()\n",
    "\n",
    "ax.plot(x_grid, ψ.pdf(x_grid), label=\"$\\psi_t$\")\n",
    "ax.plot(x_grid, ψ_next.pdf(x_grid), label=\"$\\psi_{t+1}$\")\n",
    "ax.plot(x_grid, kde.f(x_grid), label=\"estimate of $\\psi_{t+1}$\")\n",
    "\n",
    "ax.legend()\n",
    "plt.show()"
   ]
  },
  {
   "cell_type": "code",
   "execution_count": null,
   "metadata": {},
   "outputs": [],
   "source": []
  },
  {
   "cell_type": "code",
   "execution_count": null,
   "metadata": {},
   "outputs": [],
   "source": []
  }
 ],
 "metadata": {
  "kernelspec": {
   "display_name": "Python 3",
   "language": "python",
   "name": "python3"
  },
  "language_info": {
   "codemirror_mode": {
    "name": "ipython",
    "version": 3
   },
   "file_extension": ".py",
   "mimetype": "text/x-python",
   "name": "python",
   "nbconvert_exporter": "python",
   "pygments_lexer": "ipython3",
   "version": "3.6.4"
  }
 },
 "nbformat": 4,
 "nbformat_minor": 2
}
